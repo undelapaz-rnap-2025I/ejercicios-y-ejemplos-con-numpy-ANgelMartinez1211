{
  "cells": [
    {
      "cell_type": "markdown",
      "metadata": {
        "id": "z9dathS_lkMu"
      },
      "source": [
        "# Explorando el universo de NumPy: Ejercicios y ejemplos\n"
      ]
    },
    {
      "cell_type": "markdown",
      "metadata": {},
      "source": [
        " \n",
        "##### Este cuaderno está dedicado al aprendizaje y la práctica de **NumPy**, una de las bibliotecas más fundamentales para el cálculo numérico en Python. A lo largo de este espacio, se explorarán los conceptos clave de NumPy, como la creación y manipulación de arrays, operaciones vectorizadas, y funciones matemáticas avanzadas. A través de ejemplos prácticos y ejercicios, se buscará afianzar los conocimientos adquiridos, demostrando cómo esta herramienta puede optimizar tareas matemáticas y científicas, y ser aplicada en diferentes áreas como la ingeniería, la ciencia de datos y el aprendizaje automático.\n"
      ]
    },
    {
      "cell_type": "markdown",
      "metadata": {},
      "source": [
        "### 1 Examples: NumPy"
      ]
    },
    {
      "cell_type": "markdown",
      "metadata": {},
      "source": [
        "1. Basic Indexing: Usamos el comando `arr[2]` para acceder a una posición de un vector, matriz, lista etc."
      ]
    },
    {
      "cell_type": "code",
      "execution_count": 1,
      "metadata": {
        "id": "JrciqVNelazN"
      },
      "outputs": [
        {
          "name": "stdout",
          "output_type": "stream",
          "text": [
            "30\n"
          ]
        }
      ],
      "source": [
        "import numpy as np\n",
        "arr = np.array([10, 20, 30, 40, 50])\n",
        "print(arr[2]) # Output: 30"
      ]
    },
    {
      "cell_type": "markdown",
      "metadata": {},
      "source": [
        "2. Se usa el `.array` para crear una matriz o vector seguido de \"[se incluyen los valores]\"  y se usa el comando `arr[1:4]` para acceder a las posiciones dentro de un rango sin tomar en cuenta la posición final. en este caso la posición 4, es decir solo muestra el valor hasta la posicion 3"
      ]
    },
    {
      "cell_type": "code",
      "execution_count": 2,
      "metadata": {},
      "outputs": [
        {
          "name": "stdout",
          "output_type": "stream",
          "text": [
            "[20 30 40]\n"
          ]
        }
      ],
      "source": [
        "#Slicing:\n",
        "arr = np.array([10, 20, 30, 40, 50])\n",
        "print(arr[1:4]) # Output: [20 30 40]"
      ]
    },
    {
      "cell_type": "markdown",
      "metadata": {},
      "source": [
        "3. Usamos el `.array` para crear la matriz seguido de \"[se incluyen los valores]\" y se usa el comando `arr[1,2]` para hacer una busqueda indicando el primer valor la fila y el segundo la columna el valor que se repita al selecionar esos dos conjuntos de valores es el resultado a imprimir"
      ]
    },
    {
      "cell_type": "code",
      "execution_count": 3,
      "metadata": {},
      "outputs": [
        {
          "name": "stdout",
          "output_type": "stream",
          "text": [
            "6\n"
          ]
        }
      ],
      "source": [
        "#Indexing 2D Arrays:\n",
        "arr = np.array([[1, 2, 3], [4, 5, 6], [7, 8, 9]])\n",
        "print(arr[1, 2]) # Output: 6"
      ]
    },
    {
      "cell_type": "markdown",
      "metadata": {},
      "source": [
        "4. Con ete sucede lo mismo de buscar posiciones solo que al colocar `arr[:2, 1:]` lo que hacemos es filtar conjuntos de valores es decir si tenemos `\":2\"` se va a leer todas las filas que esten antes de esta es decir la `1` y `0`; Para el caso de `\"1:\"` se toman los valores de la columnas despues de la numero 1 "
      ]
    },
    {
      "cell_type": "code",
      "execution_count": 4,
      "metadata": {},
      "outputs": [
        {
          "name": "stdout",
          "output_type": "stream",
          "text": [
            "[[2 3]\n",
            " [5 6]]\n"
          ]
        }
      ],
      "source": [
        "#Slicing 2D Arrays:\n",
        "arr = np.array([[1, 2, 3], [4, 5, 6], [7, 8, 9]])\n",
        "print(arr[:2, 1:]) # Output: [[2 3] [5 6]]"
      ]
    },
    {
      "cell_type": "markdown",
      "metadata": {},
      "source": [
        "5.  Se crean distintas matrices y con el comando `tensor[1, 0, 2]` accedemos a la matriz que se quiere seleccionar, accedemos a la fila y accedemos a la columna respectivamente y con el siguiente comando `tensor[1]` accedo a la matriz que deseo. podemos mirar cada matriz como si fueran un bloque para verlo de mejor manera es decir mi primer valor del comando me identifica el bloque(la matriz), el segundo la fila y el tercero la columna el valor que se repita en esas dos operaciones es el que se selecciona."
      ]
    },
    {
      "cell_type": "code",
      "execution_count": 5,
      "metadata": {},
      "outputs": [
        {
          "name": "stdout",
          "output_type": "stream",
          "text": [
            "9\n",
            "[[ 7  8  9]\n",
            " [10 11 12]]\n"
          ]
        }
      ],
      "source": [
        "#3D Tensor Indexing:\n",
        "tensor = np.array([[[1, 2, 3], [4, 5, 6]],\n",
        "[[7, 8, 9], [10, 11, 12]],\n",
        "[[13, 14, 15], [16, 17, 18]]])\n",
        "\n",
        "# Access specific elements\n",
        "print(tensor[1, 0, 2]) # Output: 9\n",
        "# Access an entire \"slice\" (2D submatrix)\n",
        "print(tensor[1]) # Output: [[ 7 8 9] [10 11 12]]"
      ]
    },
    {
      "cell_type": "markdown",
      "metadata": {},
      "source": [
        "6. Se crea una matriz pero en este caso se le asignan valores con el comando `.arange(\"numero hasta el cual se va a llenar la matriz\")` y el comando `reshape(3, 3, 3)` es para indicar la cantidad de bloques (matrices), filas y columnas respectivamente. y con los comandos `tensor[:, 1, :]` y `tensor[:, :, 2]`accedo a filas y columnas de todos los bloques "
      ]
    },
    {
      "cell_type": "code",
      "execution_count": 6,
      "metadata": {},
      "outputs": [
        {
          "name": "stdout",
          "output_type": "stream",
          "text": [
            "[[ 9 10 11]\n",
            " [12 13 14]\n",
            " [15 16 17]]\n",
            "[[ 3  4  5]\n",
            " [12 13 14]\n",
            " [21 22 23]]\n",
            "[[ 2  5  8]\n",
            " [11 14 17]\n",
            " [20 23 26]]\n"
          ]
        }
      ],
      "source": [
        "#Slicing a 3D Tensor:\n",
        "tensor = np.arange(27).reshape(3, 3, 3)\n",
        "# Slice along the first dimension\n",
        "print(tensor[1]) # Output: 3x3 submatrix\n",
        "# Slice along the second dimension\n",
        "print(tensor[:, 1, :]) # Output: 3x3 matsubrix\n",
        "# Slice along the third dimension\n",
        "print(tensor[:, :, 2]) # Output: 3x3 submatrix"
      ]
    },
    {
      "cell_type": "markdown",
      "metadata": {},
      "source": [
        "7. Se crea la misma matriz con la cantidad de valores que indique el comando .arange y con `.reshape` damos indicaciones de cuantos bloques, matrices, filas y columnas respectivamente. para este caso tiene 2 bloques cada uno con 3 matrices y cada matriz esta formada por 2 filas y 4 columnas. entonces cuando se usa el comando `tensor[1, 2, 0, 3]` accedemos a el bloque 1, la matriz 2, la fila 0 y la columna 3 respectivamente."
      ]
    },
    {
      "cell_type": "code",
      "execution_count": 7,
      "metadata": {},
      "outputs": [
        {
          "name": "stdout",
          "output_type": "stream",
          "text": [
            "43\n",
            "[[40 41 42 43]\n",
            " [44 45 46 47]]\n"
          ]
        }
      ],
      "source": [
        "#4D Tensor Indexing:\n",
        "tensor = np.arange(48).reshape(2, 3, 2, 4)\n",
        "# Access specific elements\n",
        "print(tensor[1, 2, 0, 3]) # Output: 47\n",
        "# Access a whole \"block\" (3D sub-tensor)\n",
        "print(tensor[1, 2]) # Output: 2x4x3 sub-tensor"
      ]
    },
    {
      "cell_type": "markdown",
      "metadata": {},
      "source": [
        "8. Se crea la misma matriz con la cantidad de valores que indique el comando `.arange` y con `.reshape` damos indicaciones de cuantos bloques, matrices, filas y columnas hay respectivamente. para este caso tiene `2` bloques cada uno con `3` matrices y cada matriz esta formada por `2 filas` y `4 columnas`. entonces cuando se usa el comando `tensor[:, 2, :, :]` accedemos a todos los bloques, a la matriz `2` de cada bloque y todas las filas y columnas respectivamente."
      ]
    },
    {
      "cell_type": "code",
      "execution_count": 8,
      "metadata": {},
      "outputs": [
        {
          "name": "stdout",
          "output_type": "stream",
          "text": [
            "[[[24 25 26 27]\n",
            "  [28 29 30 31]]\n",
            "\n",
            " [[32 33 34 35]\n",
            "  [36 37 38 39]]\n",
            "\n",
            " [[40 41 42 43]\n",
            "  [44 45 46 47]]]\n",
            "[[[16 17 18 19]\n",
            "  [20 21 22 23]]\n",
            "\n",
            " [[40 41 42 43]\n",
            "  [44 45 46 47]]]\n",
            "[[[ 0  1  2  3]\n",
            "  [ 8  9 10 11]\n",
            "  [16 17 18 19]]\n",
            "\n",
            " [[24 25 26 27]\n",
            "  [32 33 34 35]\n",
            "  [40 41 42 43]]]\n"
          ]
        }
      ],
      "source": [
        "#Slicing a 4D Tensor:\n",
        "tensor = np.arange(48).reshape(2, 3, 2, 4)\n",
        "# Slice along the first dimension\n",
        "print(tensor[1]) # Output: 3x2x4 sub-tensor\n",
        "# Slice along the second dimension\n",
        "print(tensor[:, 2, :, :]) # Output: 2x2x4 sub-tensor\n",
        "# Slice along the third dimension\n",
        "print(tensor[:, :, 0, :]) # Output: 2x3x4 sub-tensor"
      ]
    },
    {
      "cell_type": "markdown",
      "metadata": {},
      "source": [
        "9. Se asignan variables A y B y dentro de estas se incluyen matrices de 2x2 y luego se crea una variable result en la cual se le asigna una operación entre matrices. hay que tener en cuenta que esta suma solo se debe realizar si las matrices son de igual tamaño."
      ]
    },
    {
      "cell_type": "code",
      "execution_count": 9,
      "metadata": {},
      "outputs": [
        {
          "name": "stdout",
          "output_type": "stream",
          "text": [
            "[[ 6  8]\n",
            " [10 12]]\n"
          ]
        }
      ],
      "source": [
        "#Matrix Addition:\n",
        "A = np.array([[1, 2], [3, 4]])\n",
        "B = np.array([[5, 6], [7, 8]])\n",
        "result = A + B\n",
        "print(result)"
      ]
    },
    {
      "cell_type": "markdown",
      "metadata": {},
      "source": [
        "10. Se usa el comando .dot para realizar multiplicación en este caso para multiplicación de matrices es decir AxB."
      ]
    },
    {
      "cell_type": "code",
      "execution_count": 10,
      "metadata": {},
      "outputs": [
        {
          "name": "stdout",
          "output_type": "stream",
          "text": [
            "[[19 22]\n",
            " [43 50]]\n"
          ]
        }
      ],
      "source": [
        "#Matrix Multiplication:\n",
        "A = np.array([[1, 2], [3, 4]])\n",
        "B = np.array([[5, 6], [7, 8]])\n",
        "result = np.dot(A, B)\n",
        "print(result)"
      ]
    },
    {
      "cell_type": "markdown",
      "metadata": {},
      "source": [
        "11. Se usa el comando `.transpose` para encontrar la transpuesta de matrices es decir el cambio de filas por columnas o viceversa en una matriz. es decir los valores si tengo una matriz `3x2` la transpuesta de esa matriz va a resultar una matriz `2x3`.       "
      ]
    },
    {
      "cell_type": "code",
      "execution_count": 11,
      "metadata": {},
      "outputs": [
        {
          "name": "stdout",
          "output_type": "stream",
          "text": [
            "[[1 3]\n",
            " [2 4]]\n"
          ]
        }
      ],
      "source": [
        "#Transpose of a Matrix:\n",
        "A = np.array([[1, 2], [3, 4]])\n",
        "result = np.transpose(A)\n",
        "print(result)"
      ]
    },
    {
      "cell_type": "markdown",
      "metadata": {},
      "source": [
        "12. Se usa los comandos `.linalg.det` y `.linalg.inv` para obtener el determinante y la inversa de una matriz respectivamente. "
      ]
    },
    {
      "cell_type": "code",
      "execution_count": 12,
      "metadata": {},
      "outputs": [
        {
          "name": "stdout",
          "output_type": "stream",
          "text": [
            "Determinant: -2.0000000000000004\n",
            "Inverse:\n",
            " [[-2.   1. ]\n",
            " [ 1.5 -0.5]]\n"
          ]
        }
      ],
      "source": [
        "#Matrix Determinant and Inverse:\n",
        "A = np.array([[1, 2], [3, 4]])\n",
        "det = np.linalg.det(A)\n",
        "inverse = np.linalg.inv(A)\n",
        "print(\"Determinant:\", det)\n",
        "print(\"Inverse:\\n\", inverse)"
      ]
    },
    {
      "cell_type": "markdown",
      "metadata": {},
      "source": [
        "13. El código calcula los autovalores y autovectores de la matriz cuadrada `A` utilizando `np.linalg.eig()`, lo cual permite identificar los factores escalares (`eigenvalues`) y las direcciones (`eigenvectors`) que no cambian cuando se aplica la transformación lineal representada por `A`; es decir, encuentra los vectores que solo se escalan (no se rotan) al multiplicarlos por la matriz."
      ]
    },
    {
      "cell_type": "code",
      "execution_count": 13,
      "metadata": {},
      "outputs": [
        {
          "name": "stdout",
          "output_type": "stream",
          "text": [
            "Eigenvalues: [2.00000002 1.99999998]\n",
            "Eigenvectors:\n",
            " [[-0.70710677 -0.70710679]\n",
            " [ 0.70710679  0.70710677]]\n"
          ]
        }
      ],
      "source": [
        "#Eigenvalues and Eigenvectors:\n",
        "A = np.array([[1, -1], [1, 3]])\n",
        "eigenvalues, eigenvectors = np.linalg.eig(A)\n",
        "print(\"Eigenvalues:\", eigenvalues)\n",
        "print(\"Eigenvectors:\\n\", eigenvectors)"
      ]
    },
    {
      "cell_type": "markdown",
      "metadata": {},
      "source": [
        "14. El código resuelve un sistema de ecuaciones lineales de la forma A * x = b utilizando `np.linalg.solve()`, donde `A` es la matriz de coeficientes y `b` es el vector de resultados; la función encuentra el vector `x` que satisface simultáneamente todas las ecuaciones del sistema, proporcionando la solución exacta si la matriz es cuadrada e invertible."
      ]
    },
    {
      "cell_type": "code",
      "execution_count": 14,
      "metadata": {},
      "outputs": [
        {
          "name": "stdout",
          "output_type": "stream",
          "text": [
            "Solution: [1. 1.]\n"
          ]
        }
      ],
      "source": [
        "#Solving Linear Equations:\n",
        "A = np.array([[2, 1], [1, 1]])\n",
        "b = np.array([3, 2])\n",
        "solution = np.linalg.solve(A, b)\n",
        "print(\"Solution:\", solution)"
      ]
    },
    {
      "cell_type": "markdown",
      "metadata": {},
      "source": [
        "15. Este código genera un conjunto de datos sintéticos con una relación lineal entre las variables `X` e `y`, simulando la ecuación `y = 4 + 3X + ruido`. Luego, utiliza el algoritmo de descenso por gradiente para ajustar un modelo de regresión lineal simple. Primero, se añade una columna de unos a `X` para incluir el término de sesgo (bias). Después, se inicializan los parámetros `theta` aleatoriamente y se ajustan durante 1000 iteraciones con una tasa de aprendizaje de 0.1, buscando minimizar el error cuadrático medio. Al finalizar, se imprimen los valores finales de los parámetros óptimos encontrados por el modelo.\n"
      ]
    },
    {
      "cell_type": "code",
      "execution_count": 17,
      "metadata": {},
      "outputs": [
        {
          "name": "stdout",
          "output_type": "stream",
          "text": [
            "Final theta: [[4.22215108]\n",
            " [2.96846751]]\n"
          ]
        }
      ],
      "source": [
        "# Generate some sample data\n",
        "np.random.seed(0)\n",
        "X = 2 * np.random.rand(100, 1)\n",
        "y = 4 + 3 * X + np.random.randn(100, 1)\n",
        "# Add bias term to X\n",
        "X_b = np.c_[np.ones((100, 1)), X]\n",
        "# Hyperparameters\n",
        "learning_rate = 0.1\n",
        "n_iterations = 1000\n",
        "# Initialize the parameters\n",
        "theta = np.random.randn(2, 1)\n",
        "# Gradient Descent\n",
        "for iteration in range(n_iterations):\n",
        "    gradients = 2 / 100 * X_b.T.dot(X_b.dot(theta) - y)\n",
        "    theta = theta - learning_rate * gradients\n",
        "print(\"Final theta:\", theta)"
      ]
    },
    {
      "cell_type": "markdown",
      "metadata": {},
      "source": [
        "# 2 Examples: Python functions and classes"
      ]
    },
    {
      "cell_type": "markdown",
      "metadata": {},
      "source": [
        "1. Se crea una función llamada greet que recibe un parametro llamado name al recibir este parametro retorna un saludo personalizado concatenando \"Hello, \" con el nombre dado y un signo de exclamación al final. Luego, se llama a la función con el argumento \"Ana\" y se imprime el resultado."
      ]
    },
    {
      "cell_type": "code",
      "execution_count": 18,
      "metadata": {},
      "outputs": [
        {
          "name": "stdout",
          "output_type": "stream",
          "text": [
            "Hello, Ana!\n"
          ]
        }
      ],
      "source": [
        "#Simple Function:\n",
        "def greet(name): \n",
        "    return \"Hello, \" + name+\"!\"\n",
        "print(greet(\"Ana\")) # Output: Hello, Ana!"
      ]
    },
    {
      "cell_type": "markdown",
      "metadata": {},
      "source": [
        "2. Se crea una función llamada add_numbers que recibe dos parametros a y b respectivamente se hace una operación de suma a esos dos parametros y retorna el resultado de esa operación."
      ]
    },
    {
      "cell_type": "code",
      "execution_count": 19,
      "metadata": {},
      "outputs": [
        {
          "name": "stdout",
          "output_type": "stream",
          "text": [
            "12\n"
          ]
        }
      ],
      "source": [
        "#Function with Parameters and Return:\n",
        "def add_numbers(a, b):\n",
        "    sum = a + b\n",
        "    return sum\n",
        "result = add_numbers(5, 7)\n",
        "print(result) # Output: 12"
      ]
    },
    {
      "cell_type": "markdown",
      "metadata": {},
      "source": [
        "3. Se crea una función que calcula la potencia de un número. tiene dos parametros base y exponent donde el exponent esta predefinido como =2 es decir la operación siempre se va a elevar a la 2 mientras este valor predeterminado no sea cambiado como es el caso del primer print, solo va hacer cambiada si yo lo requiero. esto permite facilidad y practicidad a la hora de realizar distintas operaciones sin necesidad de cambiar mucho el codigo. "
      ]
    },
    {
      "cell_type": "code",
      "execution_count": 20,
      "metadata": {},
      "outputs": [
        {
          "name": "stdout",
          "output_type": "stream",
          "text": [
            "9\n",
            "8\n"
          ]
        }
      ],
      "source": [
        "#Function with Default Parameter:\n",
        "\n",
        "def power(base, exponent=2):\n",
        "    return base ** exponent\n",
        "print(power(3)) # Output: 9\n",
        "print(power(2, 3)) # Output: 8"
      ]
    },
    {
      "cell_type": "markdown",
      "metadata": {},
      "source": [
        "4. Se crea una funcion que recibe como parametro numbers el cual retorna el minimo y maximo valor de este. luego se crea una lista y a esa lista la llamo junto a la función para que me encuentre el maximo y minimo de esa lista llamada nums y la guardo en la variable minium, maxium que luego la imprimo y se obtiene como resultado el minimo y maximo valor de la lista nums."
      ]
    },
    {
      "cell_type": "code",
      "execution_count": 21,
      "metadata": {},
      "outputs": [
        {
          "name": "stdout",
          "output_type": "stream",
          "text": [
            "2 9\n"
          ]
        }
      ],
      "source": [
        "#Function with Multiple Returns:\n",
        "def min_max(numbers):\n",
        "    return min(numbers), max(numbers)\n",
        "nums = [4, 9, 2, 7, 5]\n",
        "minimum, maximum = min_max(nums)\n",
        "print(minimum, maximum) # Output: 2 9"
      ]
    },
    {
      "cell_type": "markdown",
      "metadata": {},
      "source": [
        "5. Se crea una función llamada area_of_rectangle cuyos parametros son largo y ancho y la función lo que hace es calcular el area de un rectangulo dependiendo de los parametros que se le asignen y retorna el resultado."
      ]
    },
    {
      "cell_type": "code",
      "execution_count": 22,
      "metadata": {},
      "outputs": [
        {
          "name": "stdout",
          "output_type": "stream",
          "text": [
            "6\n"
          ]
        }
      ],
      "source": [
        "#Function with Docstring:\n",
        "def area_of_rectangle(length, width):\n",
        "    \"\"\"\n",
        "    Calculates the area of a rectangle.\n",
        "    Args:\n",
        "        length (float): The length of the rectangle.\n",
        "        width (float): The width of the rectangle.\n",
        "    Returns:\n",
        "    float: The area of the rectangle.\n",
        "    \"\"\"\n",
        "    return length * width\n",
        "area= area_of_rectangle(3,2)\n",
        "print (area)"
      ]
    },
    {
      "cell_type": "markdown",
      "metadata": {},
      "source": [
        "6. El código define una clase llamada `Dog` que modela a un perro con dos atributos: nombre y edad. Al crear una instancia de la clase, el constructor `__init__` inicializa estos valores. Además, la clase incluye un método llamado `bark` que imprime un mensaje indicando que el perro está ladrando. Finalmente, se crea un objeto `dog1` con nombre \"Buddy\" y edad 3, y al llamar a `dog1.bark()`, se muestra el mensaje \"Buddy is barking!\"."
      ]
    },
    {
      "cell_type": "code",
      "execution_count": 23,
      "metadata": {},
      "outputs": [
        {
          "name": "stdout",
          "output_type": "stream",
          "text": [
            "Buddy is barking!\n"
          ]
        }
      ],
      "source": [
        "#Creating a Simple Class:\n",
        "class Dog:\n",
        "    def __init__(self, name, age):\n",
        "        self.name = name\n",
        "        self.age = age\n",
        "    def bark(self):\n",
        "        print(f\"{self.name} is barking!\")\n",
        "# Create an instance of the Dog class\n",
        "dog1 = Dog(\"Buddy\", 3)\n",
        "dog1.bark() # Output: Buddy is barking!"
      ]
    },
    {
      "cell_type": "markdown",
      "metadata": {},
      "source": [
        "7. Este código define una clase `Student` que representa a un estudiante con nombre, edad y una lista de calificaciones. Permite agregar notas mediante el método `add_grade` y calcular el promedio de las calificaciones con `get_average_grade`. Se crea una instancia del estudiante llamado \"Alice\", se le asignan dos notas (85 y 92), y luego se imprime su promedio."
      ]
    },
    {
      "cell_type": "code",
      "execution_count": 24,
      "metadata": {},
      "outputs": [
        {
          "name": "stdout",
          "output_type": "stream",
          "text": [
            "Alice’s average grade: 88.5\n"
          ]
        }
      ],
      "source": [
        "#Adding Methods and Attributes\n",
        "class Student:\n",
        "    def __init__(self, name, age):\n",
        "        self.name = name\n",
        "        self.age = age\n",
        "        self.grades = []\n",
        "    def add_grade(self, grade):\n",
        "        self.grades.append(grade)\n",
        "    def get_average_grade(self):\n",
        "        return sum(self.grades) / len(self.grades)\n",
        "# Create a Student instance and add grades\n",
        "student1 = Student(\"Alice\", 18)\n",
        "student1.add_grade(85)\n",
        "student1.add_grade(92)\n",
        "average_grade = student1.get_average_grade()\n",
        "print(f\"{student1.name}’s average grade: {average_grade}\")"
      ]
    },
    {
      "cell_type": "markdown",
      "metadata": {},
      "source": [
        "8. Este código define una estructura básica de herencia en programación orientada a objetos utilizando Python. Se crea una clase base llamada `Animal` con un método `speak()` que no hace nada por defecto (sirve como plantilla). Luego, se crean dos clases hijas: `Cat` y `Dog`, que heredan de `Animal` y sobrescriben el método `speak()` para mostrar sonidos característicos según el tipo de animal. Finalmente, se instancian un gato llamado \"Whiskers\" y un perro llamado \"Buddy\", y se llama al método `speak()` de cada uno, mostrando el mensaje correspondiente en consola.\n"
      ]
    },
    {
      "cell_type": "code",
      "execution_count": 26,
      "metadata": {},
      "outputs": [
        {
          "name": "stdout",
          "output_type": "stream",
          "text": [
            "Whiskers says Meow!\n",
            "Buddy says Woof!\n"
          ]
        }
      ],
      "source": [
        "class Animal:\n",
        "    def __init__(self, name):\n",
        "        self.name = name\n",
        "        \n",
        "    def speak(self):\n",
        "        pass # Placeholder for subclasses to override\n",
        "class Cat(Animal):\n",
        "    def speak(self):\n",
        "        print(f\"{self.name} says Meow!\")\n",
        "\n",
        "class Dog(Animal):\n",
        "    def speak(self):\n",
        "        print(f\"{self.name} says Woof!\")\n",
        "# Create instances of Cat and Dog\n",
        "cat = Cat(\"Whiskers\")\n",
        "dog = Dog(\"Buddy\")\n",
        "cat.speak() # Output: Whiskers says Meow!\n",
        "dog.speak() # Output: Buddy says Woof!\n",
        "\n"
      ]
    },
    {
      "cell_type": "markdown",
      "metadata": {},
      "source": [
        "## 3 Exercise\n",
        "Para este apartado se resolveran todos los ejercicios planteados en el documento taller 1 [Material NumPy - Ejercicios y Ejemplos](https://drive.google.com/drive/u/1/folders/15X399KrWXIGp1qvD1B5LMBnqcFswEn96). Lo ejercicios se resolveran todos en su orden asignado es decir en la parte superior de cada consola estara el inciso seguido de la solución se debe tener en cuenta que para poder visualizar la respuesta es necesario ejecutar el codigo de la consola. \n"
      ]
    },
    {
      "cell_type": "markdown",
      "metadata": {},
      "source": [
        "3.1 Indexing Arrays in NumPy\n",
        "1. Given the NumPy array arr = np.array([3, 7, 1, 9, 5]), perform\n",
        "the following indexing operations:\n",
        "\n",
        "    a) Retrieve the third element of the array.\n",
        "\n",
        "    b) Slice the array to get elements from index 1 to index 3.\n",
        "        \n",
        "    c) Change the value of the fourth element to 12."
      ]
    },
    {
      "cell_type": "code",
      "execution_count": 37,
      "metadata": {},
      "outputs": [
        {
          "name": "stdout",
          "output_type": "stream",
          "text": [
            "a) Tercer elemento: 1\n",
            "b) Elementos del índice 1 al 3: [7 1 9]\n",
            "c) Arreglo después de cambiar el cuarto elemento a 12: [ 3  7  1 12  5]\n"
          ]
        }
      ],
      "source": [
        "\n",
        "import numpy as np\n",
        "\n",
        "# Crear el arreglo\n",
        "arr = np.array([3, 7, 1, 9, 5])\n",
        "\n",
        "# a) Obtener el tercer elemento (índice 2)\n",
        "third_element = arr[2]\n",
        "print(\"a) Tercer elemento:\", third_element)\n",
        "\n",
        "# b) Rebanar desde el índice 1 al 3 (excluyendo el índice 4)\n",
        "sliced_array = arr[1:4]\n",
        "print(\"b) Elementos del índice 1 al 3:\", sliced_array)\n",
        "\n",
        "# c) Cambiar el valor del cuarto elemento (índice 3) a 12\n",
        "arr[3] = 12\n",
        "print(\"c) Arreglo después de cambiar el cuarto elemento a 12:\", arr)\n"
      ]
    },
    {
      "cell_type": "markdown",
      "metadata": {},
      "source": [
        "2. Create a 2D NumPy array matrix with the following values:\n",
        "\n",
        "<div align=\"center\">\n",
        "\n",
        "⎡1&nbsp;&nbsp;2&nbsp;&nbsp;3⎤<br>\n",
        "⎢4&nbsp;&nbsp;5&nbsp;&nbsp;6⎥<br>\n",
        "⎣7&nbsp;&nbsp;8&nbsp;&nbsp;9⎦\n",
        "\n",
        "</div>\n",
        "\n",
        "\n",
        "\n",
        "a) Retrieve the element in the second row and third column.\n",
        "\n",
        "b) Slice the matrix to get the submatrix consisting of the first two rows\n",
        "and all columns."
      ]
    },
    {
      "cell_type": "code",
      "execution_count": 38,
      "metadata": {},
      "outputs": [
        {
          "name": "stdout",
          "output_type": "stream",
          "text": [
            " a) El elemento de la segunda fila y tercera columna es :  6\n",
            " b) la submatriz que consta de las dos primeras filas y todas las columnas es : [[1 2 3]\n",
            " [4 5 6]]\n"
          ]
        }
      ],
      "source": [
        "matriz=np.array([[1, 2, 3], [4, 5, 6], [7, 8, 9]])\n",
        "print(\" a) El elemento de la segunda fila y tercera columna es : \",matriz[1, 2])\n",
        "print(\" b) la submatriz que consta de las dos primeras filas y todas las columnas es :\",matriz[0:2, :])"
      ]
    },
    {
      "cell_type": "markdown",
      "metadata": {},
      "source": [
        "3.2 Indexing and Slicing Higher-Dimensional Tensors\n",
        "\n",
        "Consider the following 3D tensor representing a stack of matrices:\n",
        "\n",
        "<div align=\"center\">\n",
        "\n",
        "tensor =\n",
        "\n",
        "⎡⎡  1   2   3   4 ⎤  \n",
        " ⎢  5   6   7   8 ⎥  \n",
        " ⎣  9  10  11  12 ⎦  \n",
        "\n",
        " ⎡ 13  14  15  16 ⎤  \n",
        " ⎢ 17  18  19  20 ⎥  \n",
        " ⎣ 21  22  23  24 ⎦  \n",
        "\n",
        " ⎡ 25  26  27  28 ⎤  \n",
        " ⎢ 29  30  31  32 ⎥  \n",
        " ⎣ 33  34  35  36 ⎦\n",
        "</div>\n",
        "\n",
        "1. Retrieve the element at the position (1, 0, 2) within the tensor.\n",
        "2. Slice the tensor to obtain the 3 × 4 sub-tensor that corresponds to the\n",
        "second “matrix” (slice) along the first dimension.\n",
        "3. Slice the tensor to obtain the 2×4 sub-tensor that corresponds to the last\n",
        "row of the last two “matrices.”\n",
        "4. Retrieve the element at the position (2, 1, 3) within the tensor.\n",
        "5. Slice the tensor to obtain the 2×4 sub-tensor that corresponds to the first\n",
        "row of the las two “matrices.”\n",
        "Hint: Remember that in NumPy indexing, the first index corresponds to the\n",
        "outermost dimension, the second index corresponds to the next inner dimension,\n",
        "and so on."
      ]
    },
    {
      "cell_type": "code",
      "execution_count": 45,
      "metadata": {},
      "outputs": [
        {
          "name": "stdout",
          "output_type": "stream",
          "text": [
            "a. 15\n",
            "\n",
            "b. [[13 14 15 16]\n",
            " [17 18 19 20]\n",
            " [21 22 23 24]]\n",
            "\n",
            "c. [[21 22 23 24]\n",
            " [33 34 35 36]]\n",
            "\n",
            "d. 32\n",
            "\n",
            "e. [[ 1  2  3  4]\n",
            " [13 14 15 16]]\n"
          ]
        }
      ],
      "source": [
        "import numpy as np\n",
        "\n",
        "# Definimos un tensor 3D de tamaño (3, 3, 4)\n",
        "# Es decir: 3 matrices (profundidad), cada una de 3 filas por 4 columnas\n",
        "tensor = np.array([\n",
        "    [  # Primera matriz (índice 0)\n",
        "        [1, 2, 3, 4],\n",
        "        [5, 6, 7, 8],\n",
        "        [9, 10, 11, 12]\n",
        "    ],\n",
        "    [  # Segunda matriz (índice 1)\n",
        "        [13, 14, 15, 16],\n",
        "        [17, 18, 19, 20],\n",
        "        [21, 22, 23, 24]\n",
        "    ],\n",
        "    [  # Tercera matriz (índice 2)\n",
        "        [25, 26, 27, 28],\n",
        "        [29, 30, 31, 32],\n",
        "        [33, 34, 35, 36]\n",
        "    ]\n",
        "])\n",
        "\n",
        "# a. Recuperar el elemento en la posición (1, 0, 2)\n",
        "# Segunda matriz, primera fila, tercer elemento → 15\n",
        "print(\"a.\", tensor[1, 0, 2])  \n",
        "\n",
        "# b. Obtener la segunda matriz completa (índice 1)\n",
        "print(\"\\nb.\", tensor[1])\n",
        "\n",
        "# c. Obtener la última fila (índice 2) de las dos últimas matrices (índices 1 y 2)\n",
        "# Resultado: sub-tensor 2x4\n",
        "print(\"\\nc.\", tensor[1:, 2, :])\n",
        "\n",
        "# d. Recuperar el elemento en la posición (2, 1, 3)\n",
        "# Tercera matriz, segunda fila, cuarta columna → 32\n",
        "print(\"\\nd.\", tensor[2, 1, 3])  \n",
        "\n",
        "# e. Obtener la primera fila (índice 0) de las dos primeras matrices (índices 0 y 1)\n",
        "# Resultado: sub-tensor 2x4\n",
        "print(\"\\ne.\", tensor[:2, 0, :])\n"
      ]
    },
    {
      "cell_type": "markdown",
      "metadata": {},
      "source": [
        "3.3 Defining Functions in Python\n",
        "1. Write a Python function calculate average that takes a list of numbers\n",
        "as input and returns the average of those numbers.\n"
      ]
    },
    {
      "cell_type": "code",
      "execution_count": 51,
      "metadata": {},
      "outputs": [
        {
          "name": "stdout",
          "output_type": "stream",
          "text": [
            "Promedio: 25.0\n"
          ]
        }
      ],
      "source": [
        "# 1. Función que calcula el promedio de una lista de números\n",
        "def calculate_average(numbers):\n",
        "   \n",
        "    if not numbers:\n",
        "        return 0  # Evita división por cero si la lista está vacía\n",
        "    return sum(numbers) / len(numbers)\n",
        "\n",
        "\n",
        "print(\"Promedio:\", calculate_average([10, 20, 30, 40]))\n",
        "\n"
      ]
    },
    {
      "cell_type": "markdown",
      "metadata": {},
      "source": [
        "2. Define a function find power that calculates the result of a number raised\n",
        "to a given exponent. The function should have two parameters: base (the\n",
        "base number) and exponent (default value should be 2)."
      ]
    },
    {
      "cell_type": "code",
      "execution_count": 50,
      "metadata": {},
      "outputs": [
        {
          "name": "stdout",
          "output_type": "stream",
          "text": [
            "2^3 = 8\n",
            "5^2 = 25\n"
          ]
        }
      ],
      "source": [
        "\n",
        "\n",
        "# 2. Función que calcula la potencia de un número\n",
        "def find_power(base, exponent=2):\n",
        "    \n",
        "    return base ** exponent\n",
        "\n",
        "# Ejemplos de uso:\n",
        "print(\"2^3 =\", find_power(2, 3))  \n",
        "print(\"5^2 =\", find_power(5))    \n"
      ]
    },
    {
      "cell_type": "markdown",
      "metadata": {},
      "source": [
        "### 3.4 Implementing Gradient Descent Optimization\n",
        "\n",
        "1. Consider the linear regression problem where you have the following data points:\n",
        "<div align=\"center\">\n",
        "\n",
        "**X = [1, 2, 3, 4, 5]**  \n",
        "**y = [3, 6, 8, 11, 13]**\n",
        "\n",
        "</div>\n",
        "\n",
        "   Implement a Python program using NumPy to perform gradient descent optimization to find the parameters θ₀ and θ₁ for the linear regression model **hθ(x) = θ₀ + θ₁x**. Use a learning rate of **0.01** and iterate for **1000 steps**.\n",
        "\n",
        "2. Draw in a plot the progress of the parameters θ₀ and θ₁ through the steps.\n",
        "\n",
        "3. Explain in your own words the purpose of the **learning rate** in gradient descent optimization.\n"
      ]
    },
    {
      "cell_type": "code",
      "execution_count": 68,
      "metadata": {},
      "outputs": [
        {
          "name": "stdout",
          "output_type": "stream",
          "text": [
            "Parámetros finales:\n",
            "θ0 = 0.6736650680372941\n",
            "θ1 = 2.5072943538716777\n"
          ]
        }
      ],
      "source": [
        "# =======================================\n",
        "# 1. Implementación del descenso por gradiente\n",
        "# =======================================\n",
        "\n",
        "import numpy as np\n",
        "import matplotlib.pyplot as plt\n",
        "\n",
        "# Datos de entrada\n",
        "X = np.array([1, 2, 3, 4, 5])\n",
        "y = np.array([3, 6, 8, 11, 13])\n",
        "\n",
        "# Redimensionar X para incluir término de sesgo (θ0)\n",
        "# Esto convierte X en una matriz con una columna de unos y otra con los datos reales\n",
        "X_b = np.c_[np.ones((len(X), 1)), X]  # X_b será de la forma [[1,1],[1,2],...]\n",
        "y = y.reshape(-1, 1)  # Convertir y en columna para operaciones matriciales\n",
        "\n",
        "# Hiperparámetros\n",
        "learning_rate = 0.01       # Tasa de aprendizaje\n",
        "n_iterations = 1000        # Número de iteraciones\n",
        "theta = np.random.randn(2,1)  # Inicialización aleatoria de los parámetros θ₀ y θ₁\n",
        "\n",
        "# Lista para guardar la evolución de los parámetros en cada iteración\n",
        "theta_history = []\n",
        "\n",
        "# Algoritmo de descenso por gradiente\n",
        "for _ in range(n_iterations):\n",
        "    # Cálculo del gradiente del error cuadrático medio\n",
        "    gradients = 2 / len(X_b) * X_b.T.dot(X_b.dot(theta) - y)\n",
        "    \n",
        "    # Actualización de parámetros\n",
        "    theta = theta - learning_rate * gradients\n",
        "    \n",
        "    # Guardar los valores actuales de θ₀ y θ₁\n",
        "    theta_history.append(theta.flatten())\n",
        "\n",
        "# Convertir la lista de parámetros en un array para su posterior análisis\n",
        "theta_history = np.array(theta_history)\n",
        "\n",
        "# Mostrar los valores finales de θ₀ y θ₁\n",
        "print(\"Parámetros finales:\")\n",
        "print(\"θ0 =\", theta[0][0])\n",
        "print(\"θ1 =\", theta[1][0])\n"
      ]
    },
    {
      "cell_type": "code",
      "execution_count": 69,
      "metadata": {},
      "outputs": [
        {
          "data": {
            "image/png": "[encoded data removed]",
            "text/plain": [
              "<Figure size 640x480 with 1 Axes>"
            ]
          },
          "metadata": {},
          "output_type": "display_data"
        }
      ],
      "source": [
        "# =======================================\n",
        "# 2. Gráfica del progreso de θ₀ y θ₁\n",
        "# =======================================\n",
        "\n",
        "plt.plot(theta_history[:, 0], label='θ₀')\n",
        "plt.plot(theta_history[:, 1], label='θ₁')\n",
        "plt.xlabel(\"Iteración\")\n",
        "plt.ylabel(\"Valor del parámetro\")\n",
        "plt.title(\"Progreso de θ₀ y θ₁ durante el descenso por gradiente\")\n",
        "plt.legend()\n",
        "plt.grid(True)\n",
        "plt.show()\n"
      ]
    },
    {
      "cell_type": "markdown",
      "metadata": {},
      "source": [
        "### 3. ¿Para qué sirve la tasa de aprendizaje (learning rate)?\n",
        "\n",
        "La tasa de aprendizaje es como el tamaño de los pasos que da el algoritmo cuando trata de mejorar los parámetros. Si es muy alta, el modelo puede saltarse la mejor solución y no llegar nunca al valor correcto. Si es muy baja, el algoritmo va a tardar mucho en aprender y se hace lento.\n",
        "\n",
        "\n",
        "\n"
      ]
    }
  ],
  "metadata": {
    "colab": {
      "provenance": []
    },
    "kernelspec": {
      "display_name": "base",
      "language": "python",
      "name": "python3"
    },
    "language_info": {
      "codemirror_mode": {
        "name": "ipython",
        "version": 3
      },
      "file_extension": ".py",
      "mimetype": "text/x-python",
      "name": "python",
      "nbconvert_exporter": "python",
      "pygments_lexer": "ipython3",
      "version": "3.12.7"
    }
  },
  "nbformat": 4,
  "nbformat_minor": 0
}
